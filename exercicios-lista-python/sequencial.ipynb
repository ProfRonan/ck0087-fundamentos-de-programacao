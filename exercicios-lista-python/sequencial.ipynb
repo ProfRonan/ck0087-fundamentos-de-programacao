{
 "cells": [
  {
   "cell_type": "markdown",
   "metadata": {},
   "source": [
    "# Exercícios de Listas\n",
    "\n",
    "[link](https://wiki.python.org.br/ExerciciosListas)\n"
   ]
  },
  {
   "cell_type": "code",
   "execution_count": null,
   "metadata": {},
   "outputs": [],
   "source": [
    "# Faça um Programa que leia um vetor de 10 números reais e mostre-os na ordem inversa.\n",
    "\n",
    "vetor = []\n",
    "for i in range(10):\n",
    "    vetor.append(float(input(f'Digite o {i + 1}º número:')))\n",
    "vetor = vetor[::-1]\n",
    "\n",
    "for valor in vetor:\n",
    "    print(valor)\n"
   ]
  },
  {
   "cell_type": "code",
   "execution_count": null,
   "metadata": {},
   "outputs": [],
   "source": [
    "# Faça um Programa que leia um vetor de 10 caracteres, e diga quantas consoantes foram lidas.\n",
    "# Imprima as consoantes.\n",
    "\n",
    "frase = input(\"Digite uma string com 10 caracteres\")\n",
    "if len(frase) != 10:\n",
    "    print(\"Você precisa digitar uma frase com 10 caracteres.\")\n",
    "else:\n",
    "    consoantes = \"bcçdfghjklmnpqrstvxwyz\"\n",
    "    qtd_consoantes = 0\n",
    "    consoantes_encontradas = []\n",
    "    for caractere in frase:\n",
    "        if caractere in consoantes:\n",
    "            qtd_consoantes += 1\n",
    "            consoantes_encontradas.append(caractere)\n",
    "    print(f'Você digitou {frase}')\n",
    "    print(f'Foram encontradas {qtd_consoantes} consoantes.')\n",
    "    print(\"Elas estão listadas aqui:\", consoantes_encontradas)\n"
   ]
  },
  {
   "cell_type": "code",
   "execution_count": null,
   "metadata": {},
   "outputs": [],
   "source": [
    "# Faça um Programa que peça as quatro notas de 10 alunos,\n",
    "# calcule e armazene num vetor a média de cada aluno,\n",
    "# imprima o número de alunos com média maior ou igual a 7.0.\n",
    "\n",
    "medias = []\n",
    "\n",
    "for qtd_alunos in range(10):\n",
    "    notas = input(f'Digite as 4 notas do {qtd_alunos + 1}º aluno separas por espaço.')\n",
    "    notas = notas.split()\n",
    "    if len(notas) != 4:\n",
    "        print(f'Você não digitou 4 notas para o {qtd_alunos + 1}º aluno')\n",
    "    else:\n",
    "        media = sum(list(map(float, notas)))/4\n",
    "        medias.append(media)\n",
    "\n",
    "contador = 0\n",
    "for media in medias:\n",
    "    if media >= 7.0:\n",
    "        contador += 1\n",
    "print(f'Existem {contador} alunos com média maior ou igual à 7.0.')\n"
   ]
  },
  {
   "cell_type": "code",
   "execution_count": null,
   "metadata": {},
   "outputs": [],
   "source": [
    "# Faça um Programa que leia dois vetores com 10 elementos cada.\n",
    "# Gere um terceiro vetor de 20 elementos,\n",
    "# cujos valores deverão ser compostos pelos elementos intercalados dos dois outros vetores.\n",
    "\n",
    "vetor1 = []\n",
    "print(\"Primeiro vetor...\")\n",
    "for i in range(10):\n",
    "    vetor1.append(input(\"Digite algo...\"))\n",
    "\n",
    "vetor2 = []\n",
    "print(\"Segundo vetor...\")\n",
    "for i in range(10):\n",
    "    vetor2.append(input(\"Digite algo...\"))\n",
    "\n",
    "resultado = []\n",
    "for i in range(20):\n",
    "    if i % 2 == 0:\n",
    "        resultado.append(vetor1.pop(0))\n",
    "    else:\n",
    "        resultado.append(vetor2.pop(0))\n",
    "print(resultado)"
   ]
  },
  {
   "cell_type": "code",
   "execution_count": 6,
   "metadata": {},
   "outputs": [
    {
     "name": "stdout",
     "output_type": "stream",
     "text": [
      "Existem 12 menores do que a média\n"
     ]
    }
   ],
   "source": [
    "# Foram anotadas as idades e alturas de 30 alunos.\n",
    "# Faça um Programa que determine quantos alunos com mais de 13 anos possuem altura inferior à média de altura desses alunos.\n",
    "\n",
    "import random\n",
    "\n",
    "random.seed(0) # para garantir que todas as vezes que rodarmos o script os mesmos números serão usados.\n",
    "\n",
    "def cria_aluno_aleatorio():\n",
    "    idade = random.randint(5, 18) # idade em anos.\n",
    "    altura = random.randint(90, 200) / 100 # altura em metros.\n",
    "    return {'idade': idade, 'altura': altura}\n",
    "\n",
    "alunos = []\n",
    "for i in range(30):\n",
    "    alunos.append(cria_aluno_aleatorio())\n",
    "\n",
    "# Calcular a média de altura dos alunos\n",
    "soma = 0\n",
    "for aluno in alunos:\n",
    "    soma += aluno['altura']\n",
    "media = soma / 30\n",
    "\n",
    "qtd_baixinhos = 0\n",
    "for aluno in alunos:\n",
    "    if aluno['idade'] >= 13 and aluno['altura'] < media:\n",
    "        qtd_baixinhos += 1\n",
    "\n",
    "print(f\"Existem {qtd_baixinhos} menores do que a média\")\n"
   ]
  },
  {
   "cell_type": "code",
   "execution_count": 22,
   "metadata": {},
   "outputs": [
    {
     "name": "stdout",
     "output_type": "stream",
     "text": [
      "Foram encontrados 176 vezes o número 1. Que é uma fração de 0.176 do todo.\n",
      "Foram encontrados 177 vezes o número 2. Que é uma fração de 0.177 do todo.\n",
      "Foram encontrados 165 vezes o número 3. Que é uma fração de 0.165 do todo.\n",
      "Foram encontrados 167 vezes o número 4. Que é uma fração de 0.167 do todo.\n",
      "Foram encontrados 159 vezes o número 5. Que é uma fração de 0.159 do todo.\n",
      "Foram encontrados 156 vezes o número 6. Que é uma fração de 0.156 do todo.\n"
     ]
    }
   ],
   "source": [
    "# Faça um programa que simule um lançamento de dados.\n",
    "# Lance o dado 100 vezes e armazene os resultados em um vetor.\n",
    "# Depois, mostre quantas vezes cada valor foi conseguido.\n",
    "# Dica: use um vetor de contadores(1-6) e uma função para gerar numeros aleatórios, simulando os lançamentos dos dados.\n",
    "\n",
    "import random\n",
    "\n",
    "# random.seed(0)\n",
    "\n",
    "resultados = []\n",
    "\n",
    "for i in range(100):\n",
    "    resultados.append(random.randint(1, 6))\n",
    "\n",
    "qtd_resultados = {\n",
    "    1: 0,\n",
    "    2: 0,\n",
    "    3: 0,\n",
    "    4: 0,\n",
    "    5: 0,\n",
    "    6: 0\n",
    "    }\n",
    "\n",
    "for resultado in resultados:\n",
    "    qtd_resultados[resultado] += 1\n",
    "\n",
    "for numero, qtd in qtd_resultados.items():\n",
    "    print(f'Foram encontrados {qtd} vezes o número {numero}. Que é uma fração de {qtd/100} do todo.')\n",
    "\n",
    " "
   ]
  }
 ],
 "metadata": {
  "kernelspec": {
   "display_name": "Python 3.10.6 64-bit",
   "language": "python",
   "name": "python3"
  },
  "language_info": {
   "codemirror_mode": {
    "name": "ipython",
    "version": 3
   },
   "file_extension": ".py",
   "mimetype": "text/x-python",
   "name": "python",
   "nbconvert_exporter": "python",
   "pygments_lexer": "ipython3",
   "version": "3.10.6"
  },
  "orig_nbformat": 4,
  "vscode": {
   "interpreter": {
    "hash": "9beb46deb6a7edb68f2b511e388bdca498d29ee538897278ad79420762212ca5"
   }
  }
 },
 "nbformat": 4,
 "nbformat_minor": 2
}
