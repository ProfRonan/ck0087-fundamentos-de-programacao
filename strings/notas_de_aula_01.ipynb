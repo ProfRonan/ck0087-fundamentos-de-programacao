{
 "cells": [
  {
   "cell_type": "markdown",
   "metadata": {},
   "source": [
    "# Strings\n",
    "\n",
    "Uma introdução geral à manipulação de strings.\n"
   ]
  },
  {
   "cell_type": "code",
   "execution_count": null,
   "metadata": {},
   "outputs": [],
   "source": [
    "# Caracteres nas strings\n",
    "\n",
    "print(\"Olá!\")\n",
    "print(\"--------\")\n",
    "print(\"Podemos ter um enter\\ndentro da string.\")\n",
    "print(\"--------\")\n",
    "print(\"Podemos ter um tab\\ttambém dentro da string.\")\n",
    "print(\"--------\")\n",
    "print(\"Aspas simples \\' e aspas duplas podem ser escritas também \\\".\")\n",
    "print(\"--------\")\n",
    "print(\"A própria barra invertida também pode ser escapada \\\\.\")\n"
   ]
  },
  {
   "cell_type": "markdown",
   "metadata": {},
   "source": [
    "## Atribuição\n",
    "\n",
    "Strings são imutáveis.\n",
    "\n",
    "O conteúdo de uma variável pode ser descartado e uma nova string pode ser colocada no lugar.\n",
    "\n",
    "Uma string construída jamais pode ser alterada.\n"
   ]
  },
  {
   "cell_type": "code",
   "execution_count": null,
   "metadata": {},
   "outputs": [],
   "source": [
    "# Atribuição\n",
    "\n",
    "primeira = \"Uma string.\"\n",
    "segunda = \"Outra string.\"\n"
   ]
  },
  {
   "cell_type": "code",
   "execution_count": null,
   "metadata": {},
   "outputs": [],
   "source": [
    "\n",
    "# Concatenação\n",
    "\n",
    "terceira = \"Podemos\" + \"Concatenar\" + \"Várias\" + \"Strings com o operador +\"\n",
    "print(terceira)\n"
   ]
  },
  {
   "cell_type": "code",
   "execution_count": null,
   "metadata": {},
   "outputs": [],
   "source": [
    "# Repetição\n",
    "\n",
    "muitas_vezes = \"Podemos Repetir\\n\" * 10\n",
    "print(muitas_vezes)\n"
   ]
  },
  {
   "cell_type": "code",
   "execution_count": null,
   "metadata": {},
   "outputs": [],
   "source": [
    "# Strings em múltiplas linhas\n",
    "\n",
    "aspas_triplas = \"\"\"Aspas triplas (simples ou duplas)\n",
    "                   Servem para podermos escrever strings em\n",
    "                   muitas linhas!\"\"\"\n",
    "print(aspas_triplas)\n",
    "\n",
    "outro_jeito = \"Um outro jeito\\n\\\n",
    "              de se escrever strings\\n\\\n",
    "              que passem de muitas linhas\\n\\\n",
    "              sem usar aspas triplas\\n\\\n",
    "              é colocando o \\\\ no final de cada linha.\"\n",
    "print(outro_jeito)\n",
    "\n",
    "# Mas os espaços em branco ficam preservados! E agora?\n",
    "# Veja as bibliotecas textwrap e inspect para lidar com esse problema.\n"
   ]
  },
  {
   "cell_type": "markdown",
   "metadata": {},
   "source": [
    "## Indexando e Fatiando Strings\n",
    "\n",
    "Uma posição especifica de uma string pode ser obtida assim `string[posicao]`.\n",
    "Chamamos essa posição do índice de um elemento da string.\n"
   ]
  },
  {
   "cell_type": "code",
   "execution_count": null,
   "metadata": {},
   "outputs": [],
   "source": [
    "# Indexando\n",
    "\n",
    "indexando = \"ABCDEFghijklmnopqrstuvxwyz\"\n",
    "\n",
    "print(indexando[0])  # Referente à primeira posição da string.\n",
    "print(indexando[2])  # Terceira posição.\n",
    "print(indexando[4])  # Quinta posição\n",
    "\n",
    "# Os vetores/string/listas em quase toda linguagem de programação começam do índice zero.\n"
   ]
  },
  {
   "cell_type": "markdown",
   "metadata": {},
   "source": [
    "### Índices com Números Negativos\n",
    "\n",
    "O que acontece quando os índices são negativos?\n"
   ]
  },
  {
   "cell_type": "code",
   "execution_count": null,
   "metadata": {},
   "outputs": [],
   "source": [
    "# Manipulando indices negativos\n",
    "\n",
    "vogais = \"AEIOUaeiou\"\n",
    "\n",
    "print(vogais[-1])  # Última posição.\n",
    "print(vogais[-2])  # Penúltima posição.\n",
    "print(vogais[-3])\n",
    "print(vogais[-9])\n"
   ]
  },
  {
   "cell_type": "markdown",
   "metadata": {},
   "source": [
    "### Fatiando Strings\n",
    "\n",
    "Podemos **\"pegar\"** pedaços de uma string usando o operador _slice_ (fatia)\n"
   ]
  },
  {
   "cell_type": "code",
   "execution_count": null,
   "metadata": {},
   "outputs": [],
   "source": [
    "# Fatiando\n",
    "\n",
    "números = \"0123456789\"\n",
    "\n",
    "# lista/string[começo:\"final\":passo]\n",
    "# Faz uma cópia da string números começando no índice zero e terminando antes do 5.\n",
    "print(números[0:5])\n",
    "# Faz uma cópia da string números começando no índice zero e terminando antes do 1.\n",
    "print(números[0:1])\n",
    "# Faz uma cópia da string números começando no índice zero e terminando antes do 10 mas pulando de 2 em 2.\n",
    "print(números[0:10:2])\n",
    "\n",
    "# Complicando\n",
    "print(\"--------\")\n",
    "print(números[:])  # Faz uma cópia da string do começo até o final.\n",
    "print(números[::2])  # Faz uma cópia do começo até o final pulando de 2 em 2.\n",
    "# Faz uma cópia da posição 1 até o final pulando de 2 em 2.\n",
    "print(números[1::2])\n",
    "# Faz uma cópia do começo até a posição 2 (terceira) pulando de 4 em 4.\n",
    "print(números[:3:4])\n",
    "\n",
    "print(\"-------\")\n",
    "print(números[-1:-5])  # Resulta na string \"\" pois o começo é depois do final.\n",
    "# Vai do \"começo\" (que é a última posição) até antes do final (que é a posição ante-ante-ante-penúltima) pulando de -1 em -1.\n",
    "print(números[-1:-5:-1])\n",
    "print(números[-1::-1])  # Inverte a string!\n"
   ]
  },
  {
   "cell_type": "markdown",
   "metadata": {},
   "source": [
    "## O que significa ser imutável\n",
    "\n",
    "Um valor imutável é aquele tipo de variável que não pode ser alterada.\n",
    "Alguns exemplos em Python: `int`, `float`, `str`, `frozenset`...\n"
   ]
  },
  {
   "cell_type": "code",
   "execution_count": null,
   "metadata": {},
   "outputs": [],
   "source": [
    "a = \"Primeira\"\n",
    "b = \"Primeira\"\n",
    "c = a\n",
    "print(id(a))  # id(variável) diz qual a posição de memória dessa variável.\n",
    "print(id(b))\n",
    "# Como as duas strings são idênticas, o interpretador faz uma otimização e coloca elas no mesmo lugar.\n",
    "print(id(b) == id(a))\n",
    "\n",
    "print(id(c))\n",
    "# como são a mesma string o resultado é que elas ficam no mesmo lugar da memória.\n",
    "print(id(c) == id(a))\n"
   ]
  },
  {
   "cell_type": "markdown",
   "metadata": {},
   "source": [
    "## Estar ou não estar, eis a questão!\n",
    "\n",
    "Breves exemplos de uso dos operadores `in` e `not in`.\n"
   ]
  },
  {
   "cell_type": "code",
   "execution_count": null,
   "metadata": {},
   "outputs": [],
   "source": [
    "# Operadores 'in' e 'not in'\n",
    "\n",
    "frase_motivacional = \"#Vai dar certo!\"\n",
    "\n",
    "print(\"Vai\" in frase_motivacional)\n",
    "print(\"vai\" in frase_motivacional)\n",
    "print(\" \" in frase_motivacional)\n",
    "print(\" dar\" in frase_motivacional)\n",
    "print(\"#certo\" in frase_motivacional)\n",
    "print(\"#\" in frase_motivacional)\n",
    "print(\"tristeza\" not in frase_motivacional)\n"
   ]
  },
  {
   "cell_type": "markdown",
   "metadata": {},
   "source": [
    "## Prefixos lidando com Strings\n",
    "\n",
    "Antes de começar uma string por exemplo `\"Hoje, vai ser um bom dia.\"`.\n",
    "Tem formas de _\"alterar\"_ a forma como o interpretador lida com ela colocando um prefixo antes das primeiras aspas, alguns exemplos são `r`, `b`, `f` e `u`.\n"
   ]
  },
  {
   "cell_type": "code",
   "execution_count": null,
   "metadata": {},
   "outputs": [],
   "source": [
    "# Com o prefixo r ou R o interpretador pega a string \"crua\" sem fazer qualquer análise ou mudança nos caracteres dela como por exemplo trocar o \"\\n\" por um enter.\n",
    "prefixoR = r'Pode escrever tudo \\asdf \\n com qualquer coisa que {#$34)(U*#!@#&*} não vai ser alterado \\o12 \\hAF'\n",
    "print(prefixoR)\n"
   ]
  },
  {
   "cell_type": "code",
   "execution_count": null,
   "metadata": {},
   "outputs": [],
   "source": [
    "# O prefixo f ou F serve para formatar a string substituindo valores de dentro dela por resultados de expressões.\n",
    "dia = \"Hoje\"\n",
    "tempo = \"bom\"\n",
    "graus = 29\n",
    "atividades = [\"ir ao supermercado\", \"ganhar no LoL\"]\n",
    "prefixoF = f'{dia} vai ser {tempo} fazendo {graus}° e você tem que:\\n {atividades}'\n",
    "print(prefixoF)\n"
   ]
  },
  {
   "cell_type": "code",
   "execution_count": null,
   "metadata": {},
   "outputs": [],
   "source": [
    "prefixoB = b'\\xE2\\x82\\xAC'  # Guarda a representação em binário de uma string.\n",
    "# Converte essa representação de volta em utf-8\n",
    "prefixoB = prefixoB.decode(\"utf-8\")\n",
    "# No caso o Python3 já usa utf-8 como padrão não sendo necessário usar string binaria.\n",
    "print(prefixoB)\n"
   ]
  },
  {
   "cell_type": "markdown",
   "metadata": {},
   "source": [
    "O prefixo `u` também é usado para manipular Unicode.\n"
   ]
  },
  {
   "cell_type": "markdown",
   "metadata": {},
   "source": [
    "## Formatando Strings\n",
    "\n",
    "Existem formas criar strings _com valores obtidos_ sem ser concatenando um monte delas.\n"
   ]
  },
  {
   "cell_type": "code",
   "execution_count": null,
   "metadata": {},
   "outputs": [],
   "source": [
    "# Sem os números a ordem natural é da esquerda pra direita.\n",
    "TEMPLATE = \"Hoje é {0} de {1}, {2}\"\n",
    "\n",
    "dia = 27\n",
    "mes = \"Fevereiro\"\n",
    "ano = \"2022\"\n",
    "\n",
    "AMANHA = \"Amanhã, no mês de {1} será dia {0}\"\n",
    "\n",
    "preenchido = TEMPLATE.format(dia, mes, ano)\n",
    "print(TEMPLATE)\n",
    "print(preenchido)\n",
    "print(AMANHA.format(dia, mes))  # O primeiro parâmetro refere ao número zero.\n"
   ]
  },
  {
   "cell_type": "markdown",
   "metadata": {},
   "source": [
    "Existem várias formas de apresentar os valores quando formatamos uma string, seja com o método `format` ou usando `f-strings`.\n",
    "Uma lista exaustiva pode ser encontrada na documentação.\n",
    "A forma mais comum de ter que mudar a apresentação do resultado de uma expressão é quando queremos apresentar resultados envolvendo números flutuantes ou aproximações de números irracionais.\n"
   ]
  },
  {
   "cell_type": "code",
   "execution_count": null,
   "metadata": {},
   "outputs": [],
   "source": [
    "# Limitando a precisão\n",
    "import math\n",
    "pi = math.pi\n",
    "# número como existente na memória sem nenhuma formatação.\n",
    "tentativa = f\"O valor de pi é {pi}\"\n",
    "# pi com pelo menos 10 caracteres, sendo duas casas de precisão após a vírgula.\n",
    "mudando_precisão = f\"O valor de pi é {pi:10.2f}\"\n",
    "# pi com no mínimo 10 caracteres, pi com no mínimo 10 caracteres sendo no máximo 2 após a vírgula e pi com no máximo 5 caracteres apos os dígitos inteiros.\n",
    "variado = f\"pi com   10: {pi:10}\\npi com 2.2f: {pi:2.2f}\\npi com   .5: {pi:.5}\"\n",
    "print(tentativa)\n",
    "print(mudando_precisão)\n",
    "print(variado)\n"
   ]
  },
  {
   "cell_type": "markdown",
   "metadata": {},
   "source": [
    "## Métodos Importantes\n",
    "\n",
    "Um método é uma função que pode ser acessada por meio de `nome_da_variável.nome_do_método`.\n"
   ]
  },
  {
   "cell_type": "code",
   "execution_count": 9,
   "metadata": {},
   "outputs": [
    {
     "name": "stdout",
     "output_type": "stream",
     "text": [
      "Começa com 'havia': True\n",
      "Tudo minúsculo: False\n",
      "Tudo maiúsculo: False\n",
      "Tudo letra: False\n",
      "Tudo letra ou número: False\n"
     ]
    }
   ],
   "source": [
    "# Testes Verdadeiros/Falsos\n",
    "\n",
    "exemplo = \"Havia uma barata na careca do vovô,\"\n",
    "# A string começa com o argumento dado?\n",
    "print(\"Começa com 'havia':\", exemplo.startswith(\"Havia\"))\n",
    "# Todos os caracteres são minúsculos?\n",
    "print(\"Tudo minúsculo:\", exemplo.islower())\n",
    "# Todos os caracteres são maiúsculos?\n",
    "print(\"Tudo maiúsculo:\", exemplo.isupper())\n",
    "# Não tem números nem símbolos? (O espaço em branco é símbolo!)\n",
    "print(\"Tudo letra:\", exemplo.isalpha())\n",
    "print(\"Tudo letra ou número:\", exemplo.isalnum())  # Não tem símbolos?\n"
   ]
  },
  {
   "cell_type": "code",
   "execution_count": 11,
   "metadata": {},
   "outputs": [
    {
     "name": "stdout",
     "output_type": "stream",
     "text": [
      "Assim que ela me viu, bateu asas e voou.\n",
      "Assim Que Ela Me Viu, Bateu Asas E Voou.\n",
      "ASSIM QUE ELA ME VIU, BATEU ASAS E VOOU.\n",
      "assim que ela me viu, bateu asas e voou.\n",
      "ASSIM QUE ELA ME VIU, BATEU ASAS E VOOU.\n"
     ]
    }
   ],
   "source": [
    "# Métodos para mudar algumas partes da string\n",
    "\n",
    "exemplo = \"assim que ela me viu, bateu asas e voou.\"\n",
    "print(exemplo.capitalize())\n",
    "print(exemplo.title())\n",
    "print(exemplo.upper())\n",
    "print(exemplo.lower())\n",
    "print(exemplo.swapcase())\n"
   ]
  },
  {
   "cell_type": "code",
   "execution_count": 13,
   "metadata": {},
   "outputs": [
    {
     "name": "stdout",
     "output_type": "stream",
     "text": [
      "['Dó', 'Ré', 'Mi', 'Fá', 'Fá', 'Fá']\n",
      "['Dó Ré Mi ', 'á ', 'á ', 'á']\n",
      "('Dó Ré Mi ', 'Fá', ' Fá Fá')\n",
      "1+2+3+4\n"
     ]
    }
   ],
   "source": [
    "# Construir strings a partir de outras\n",
    "\n",
    "exemplo = \"Dó Ré Mi Fá Fá Fá\"\n",
    "\n",
    "print(exemplo.split())\n",
    "print(exemplo.split(\"F\"))\n",
    "print(exemplo.partition(\"Fá\"))\n",
    "\n",
    "teste = \"+\".join([\"1\", \"2\", \"3\", \"4\"])\n",
    "print(teste)\n"
   ]
  },
  {
   "cell_type": "code",
   "execution_count": 17,
   "metadata": {},
   "outputs": [
    {
     "name": "stdout",
     "output_type": "stream",
     "text": [
      "--------Frase Exemplo---------\n",
      "    \n",
      " \n",
      " \t\t Pensar em uma frase de esperança muito linda aqui!    \n",
      "\n",
      "\n",
      "\t\n",
      "------------Strip-------------\n",
      "Pensar em uma frase de esperança muito linda aqui!\n",
      "------------LStrip------------\n",
      "Pensar em uma frase de esperança muito linda aqui!    \n",
      "\n",
      "\n",
      "\t\n",
      "------------RStrip------------\n",
      "    \n",
      " \n",
      " \t\t Pensar em uma frase de esperança muito linda aqui!\n"
     ]
    }
   ],
   "source": [
    "# Remover espaços em branco\n",
    "\n",
    "exemplo = \"    \\n \\n \\t\\t Pensar em uma frase de esperança muito linda aqui!    \\n\\n\\n\\t\"\n",
    "\n",
    "print(\"Frase Exemplo\".center(30, \"-\"))\n",
    "print(exemplo)\n",
    "print(\"Strip\".center(30, \"-\"))\n",
    "print(exemplo.strip())\n",
    "print(\"LStrip\".center(30, \"-\"))\n",
    "print(exemplo.lstrip())\n",
    "print(\"RStrip\".center(30, \"-\"))\n",
    "print(exemplo.rstrip())\n"
   ]
  },
  {
   "cell_type": "code",
   "execution_count": 25,
   "metadata": {},
   "outputs": [
    {
     "name": "stdout",
     "output_type": "stream",
     "text": [
      "67\n",
      "A\n",
      "211 79\n"
     ]
    }
   ],
   "source": [
    "# Caracteres simples\n",
    "\n",
    "print(ord(\"C\"))  # Qual o valor numérico que representa \"C\"\n",
    "print(chr(65))  # Qual a letra associada ao número 65\n",
    "print(ord(\"Ó\"), ord(\"O\"))  # Cuidado com assentos!\n"
   ]
  }
 ],
 "metadata": {
  "kernelspec": {
   "display_name": "Python 3.10.7 64-bit",
   "language": "python",
   "name": "python3"
  },
  "language_info": {
   "codemirror_mode": {
    "name": "ipython",
    "version": 3
   },
   "file_extension": ".py",
   "mimetype": "text/x-python",
   "name": "python",
   "nbconvert_exporter": "python",
   "pygments_lexer": "ipython3",
   "version": "3.10.7"
  },
  "orig_nbformat": 4,
  "vscode": {
   "interpreter": {
    "hash": "26de051ba29f2982a8de78e945f0abaf191376122a1563185a90213a26c5da77"
   }
  }
 },
 "nbformat": 4,
 "nbformat_minor": 2
}
