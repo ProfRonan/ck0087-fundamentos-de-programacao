{
 "cells": [
  {
   "cell_type": "markdown",
   "metadata": {},
   "source": [
    "# Exercícios Strings\n"
   ]
  },
  {
   "cell_type": "markdown",
   "metadata": {},
   "source": [
    "## Imprimir tabela (Automate the boring stuff).\n",
    "\n",
    "Faça um programa que pegue uma lista de listas e imprima uma tabela _bem formatada_ com os valores dados.\n",
    "\n",
    "Exemplo:\n",
    "\n",
    "```python\n",
    "tabela = [['apples', 'oranges', 'cherries', 'banana'],\n",
    "             ['Alice', 'Bob', 'Carol', 'David'],\n",
    "             ['dogs', 'cats', 'moose', 'goose']]\n",
    "```\n",
    "\n",
    "O resultado deve ser:\n",
    "\n",
    "```shell\n",
    "   apples Alice  dogs\n",
    "  oranges   Bob  cats\n",
    " cherries Carol moose\n",
    "   banana David goose\n",
    "```\n"
   ]
  },
  {
   "cell_type": "code",
   "execution_count": null,
   "metadata": {},
   "outputs": [],
   "source": [
    "# Versão 1 => Balizando pelo maior elemento\n",
    "\n",
    "entrada = [['apples', 'oranges', 'cherries', 'banana'],\n",
    "           ['Alice', 'Bob', 'Carol', 'David'],\n",
    "           ['dogs', 'cats', 'moose', 'goose']]\n",
    "\n",
    "\n",
    "def tamanho_maior(tabela):\n",
    "    maior = 0\n",
    "    for linha in tabela:\n",
    "        for elemento in linha:\n",
    "            # max retorna o maior valor dentre os passados como argumento.\n",
    "            maior = max(maior, len(elemento))\n",
    "    return maior\n",
    "\n",
    "\n",
    "def formata_tabela(tabela: list[list[str]]):\n",
    "    string = \"\"\n",
    "    maior = tamanho_maior(tabela)\n",
    "    for linha in tabela:\n",
    "        for elemento in linha:\n",
    "            # O maior + 1 serve para garantir que as palavras maiores também vão estar separadas.\n",
    "            # Justifica à direita a string ocupando 'maior' caracteres no mínimo.\n",
    "            string += elemento.rjust(maior + 1)\n",
    "        string += \"\\n\"\n",
    "    return string\n",
    "\n",
    "\n",
    "print(formata_tabela(entrada))\n"
   ]
  },
  {
   "cell_type": "code",
   "execution_count": null,
   "metadata": {},
   "outputs": [],
   "source": [
    "# Versão 2 => Usando o maior elemento de cada coluna.\n",
    "\n",
    "entrada = [['Supercalifragilisticexpialidocius', 'oranges', 'cherries', 'banana'],\n",
    "           ['Alice', 'Bob', 'Carol', 'David'],\n",
    "           ['dogs', 'cats', 'moose', 'goose']]\n",
    "\n",
    "\n",
    "def pega_coluna(tabela: list[list[str]], coluna=0):\n",
    "    retorno = []\n",
    "    for linha in tabela:\n",
    "        for j, elemento in enumerate(linha):\n",
    "            if j == coluna:\n",
    "                retorno.append(elemento)\n",
    "    return retorno\n",
    "\n",
    "\n",
    "def tamanho_maior_coluna(tabela: list[list[str]], coluna=0):\n",
    "    maior = 0\n",
    "    coluna = pega_coluna(tabela, coluna)\n",
    "    for elemento in coluna:\n",
    "        # max retorna o maior valor dentre os passados como argumento.\n",
    "        maior = max(maior, len(elemento))\n",
    "    return maior\n",
    "\n",
    "\n",
    "def formata_tabela(tabela: list[list[str]]):\n",
    "    string = \"\"\n",
    "    for linha in tabela:\n",
    "        for j, elemento in enumerate(linha):\n",
    "            # O maior + 1 serve para garantir que as palavras maiores também vão estar separadas.\n",
    "            # Justifica à direita a string.\n",
    "            string += elemento.rjust(tamanho_maior_coluna(tabela, j) + 1)\n",
    "        string += \"\\n\"\n",
    "    return string\n",
    "\n",
    "\n",
    "print(formata_tabela(entrada))\n"
   ]
  }
 ],
 "metadata": {
  "kernelspec": {
   "display_name": "Python 3.10.8 64-bit",
   "language": "python",
   "name": "python3"
  },
  "language_info": {
   "codemirror_mode": {
    "name": "ipython",
    "version": 3
   },
   "file_extension": ".py",
   "mimetype": "text/x-python",
   "name": "python",
   "nbconvert_exporter": "python",
   "pygments_lexer": "ipython3",
   "version": "3.10.8"
  },
  "orig_nbformat": 4,
  "vscode": {
   "interpreter": {
    "hash": "e7370f93d1d0cde622a1f8e1c04877d8463912d04d973331ad4851f04de6915a"
   }
  }
 },
 "nbformat": 4,
 "nbformat_minor": 2
}
