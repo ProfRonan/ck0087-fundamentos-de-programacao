{
 "cells": [
  {
   "cell_type": "markdown",
   "metadata": {},
   "source": [
    "# Listas\n",
    "\n",
    "Listas são sequências de valores.\n"
   ]
  },
  {
   "cell_type": "markdown",
   "metadata": {},
   "source": [
    "## Atribuição\n",
    "\n",
    "Listas podem ser atribuídas à variáveis usando o operador de atribuição normalmente.\n"
   ]
  },
  {
   "cell_type": "code",
   "execution_count": null,
   "metadata": {},
   "outputs": [],
   "source": [
    "# Forma explicita de declarar uma lista.\n",
    "lista1 = [1, 2, 3, 4, 5]\n",
    "print(lista1)\n",
    "\n",
    "# Forma explicita de declarar lista vazia.\n",
    "listaVazia = []\n",
    "print(listaVazia)\n",
    "listaVazia = list()\n",
    "print(listaVazia)\n",
    "\n",
    "\n",
    "# Listas podem ter valores arbitrários.\n",
    "\n",
    "lista2 = [\"Banana\", 1, True, [\"Outra\", \"Lista\", \"Dentro\"]]\n",
    "print(lista2)\n"
   ]
  },
  {
   "cell_type": "markdown",
   "metadata": {},
   "source": [
    "## Adicionar e Remover\n",
    "\n",
    "Listas são objetos mutáveis, então é possível alterar o valor deles depois que eles foram criados.\n"
   ]
  },
  {
   "cell_type": "code",
   "execution_count": null,
   "metadata": {},
   "outputs": [],
   "source": [
    "# Adicionando coisas\n",
    "exemplo = [0]\n",
    "print(exemplo)\n",
    "exemplo.append(2)  # lista.append(coisa) coloca a coisa no final da lista.\n",
    "print(exemplo)\n",
    "exemplo.append(1)\n",
    "print(exemplo)\n",
    "exemplo.append(\"Abacate\")\n",
    "print(exemplo)\n",
    "print(\"Terminou de adicionar\".center(30, \"-\"))\n",
    "# Removendo coisas\n",
    "exemplo.pop()  # remove o último item da lista.\n",
    "print(exemplo)\n",
    "exemplo.pop(1)  # remove o \"segundo\" item da lista.\n",
    "print(exemplo)\n"
   ]
  },
  {
   "cell_type": "markdown",
   "metadata": {},
   "source": [
    "## Indexando e Fatiando Listas\n",
    "\n",
    "Uma posição especifica de uma lista pode ser obtida assim `lista[posição]`.\n",
    "Chamamos essa posição do índice de um elemento da lista.\n"
   ]
  },
  {
   "cell_type": "code",
   "execution_count": null,
   "metadata": {},
   "outputs": [],
   "source": [
    "# Indexando\n",
    "\n",
    "# Cria uma lista com os números de 1 até 11\n",
    "indexando = [x for x in range(1, 12)]\n",
    "print(indexando)\n",
    "\n",
    "print(indexando[0])  # Referente à primeira posição da lista.\n",
    "print(indexando[2])  # Terceira posição.\n",
    "print(indexando[4])  # Quinta posição\n",
    "\n",
    "# Os vetores/string/listas em quase toda linguagem de programação começam do índice zero.\n"
   ]
  },
  {
   "cell_type": "markdown",
   "metadata": {},
   "source": [
    "### Índices com Números Negativos\n",
    "\n",
    "O que acontece quando os índices são negativos?\n"
   ]
  },
  {
   "cell_type": "code",
   "execution_count": null,
   "metadata": {},
   "outputs": [],
   "source": [
    "# Manipulando indices negativos\n",
    "\n",
    "vogais = [\"A\", \"E\", \"I\", \"O\", \"U\", \"a\", \"e\", \"i\", \"o\", \"u\"]\n",
    "\n",
    "print(vogais[-1])  # Última posição.\n",
    "print(vogais[-2])  # Penúltima posição.\n",
    "print(vogais[-3])\n",
    "print(vogais[-9])\n"
   ]
  },
  {
   "cell_type": "markdown",
   "metadata": {},
   "source": [
    "### Fatiando Listas\n",
    "\n",
    "Podemos **\"pegar\"** pedaços de uma lista usando o operador _slice_ (fatia)\n"
   ]
  },
  {
   "cell_type": "code",
   "execution_count": null,
   "metadata": {},
   "outputs": [],
   "source": [
    "# Fatiando\n",
    "\n",
    "números = [0, 1, 2, 3, 4, 5, 6, 7, 8, 9]\n",
    "\n",
    "# lista/string[começo:\"final\":passo]\n",
    "# Faz uma cópia da lista números começando no índice zero e terminando antes do 5.\n",
    "print(números[0:5])\n",
    "# Faz uma cópia da lista números começando no índice zero e terminando antes do 1.\n",
    "print(números[0:1])\n",
    "# Faz uma cópia da lista números começando no índice zero e terminando antes do 10 mas pulando de 2 em 2.\n",
    "print(números[0:10:2])\n",
    "\n",
    "# Complicando\n",
    "print(\"-\"*30)\n",
    "print(números[:])  # Faz uma cópia da lista do começo até o final.\n",
    "print(números[::2])  # Faz uma cópia do começo até o final pulando de 2 em 2.\n",
    "# Faz uma cópia da posição 1 até o final pulando de 2 em 2.\n",
    "print(números[1::2])\n",
    "# Faz uma cópia do começo até a posição 2 (terceira) pulando de 4 em 4.\n",
    "print(números[:3:4])\n",
    "\n",
    "print(\"-\"*30)\n",
    "print(números[-1:-5])  # Resulta na lista [] pois o começo é depois do final.\n",
    "# Vai do \"começo\" (que é a última posição) até antes do final (que é a posição ante-ante-ante-penúltima) pulando de -1 em -1.\n",
    "print(números[-1:-5:-1])\n",
    "print(números[-1::-1])  # Inverte a lista!\n"
   ]
  },
  {
   "cell_type": "markdown",
   "metadata": {},
   "source": [
    "## O que significa ser mutável\n",
    "\n",
    "Um valor mutável é aquele tipo de variável que pode ser alterada depois de atribuída.\n",
    "Alguns exemplos em Python: `list`, `dict`, `set`, ...\n"
   ]
  },
  {
   "cell_type": "code",
   "execution_count": null,
   "metadata": {},
   "outputs": [],
   "source": [
    "# Mutabilidade.\n",
    "\n",
    "listA = [1, 2, 3]\n",
    "listB = listA\n",
    "print(listA)\n",
    "print(listB)\n",
    "listA.append(4)\n",
    "print(listB)  # Aqui listB também tem os valores [1, 2, 3, 4]\n"
   ]
  },
  {
   "cell_type": "markdown",
   "metadata": {},
   "source": [
    "### Consequências\n",
    "\n",
    "Quando você passa uma lista para uma função, ao final da função talvez sua lista passada como argumento seja alterada!\n"
   ]
  },
  {
   "cell_type": "code",
   "execution_count": null,
   "metadata": {},
   "outputs": [],
   "source": [
    "def adiciona(lista):\n",
    "    # len é uma função que diz o número de elementos de uma lista.\n",
    "    for i in range(len(lista)):\n",
    "        lista[i] *= i\n",
    "\n",
    "\n",
    "lista_teste = [1, 2, 3, 4, 5]\n",
    "adiciona(lista_teste)\n",
    "print(lista_teste)\n"
   ]
  },
  {
   "cell_type": "markdown",
   "metadata": {},
   "source": [
    "## Operações\n"
   ]
  },
  {
   "cell_type": "code",
   "execution_count": null,
   "metadata": {},
   "outputs": [],
   "source": [
    "# Concatenação\n",
    "\n",
    "lista = [1, 2, 3] + [1, 2, 4, 8] + [0, -2, 4]\n",
    "print(lista)\n"
   ]
  },
  {
   "cell_type": "code",
   "execution_count": null,
   "metadata": {},
   "outputs": [],
   "source": [
    "# Repetição\n",
    "\n",
    "lista = [1, 2, 3] * 10\n",
    "print(lista)\n",
    "\n",
    "# Cuidado modificar uma \"cópia\" de uma lista, na realidade, é modificar o resultado da referência dela.\n",
    "lista = [[1], [2]] * 4\n",
    "print(lista)\n",
    "lista[0].append(3)\n",
    "print(lista)\n"
   ]
  },
  {
   "cell_type": "markdown",
   "metadata": {},
   "source": [
    "## Iterando sobre listas\n"
   ]
  },
  {
   "cell_type": "code",
   "execution_count": null,
   "metadata": {},
   "outputs": [],
   "source": [
    "# For simples\n",
    "\n",
    "lista = [1, 2, 3, 4, 5, 6]\n",
    "for x in lista:\n",
    "    print(x)\n"
   ]
  },
  {
   "cell_type": "code",
   "execution_count": null,
   "metadata": {},
   "outputs": [],
   "source": [
    "# For com índices\n",
    "\n",
    "lista = [1, 2, 3, 4, 5, 6]\n",
    "# Não use isso a não ser que seja necessário, é muito \"feio\".\n",
    "for i in range(len(lista)):\n",
    "    print(lista[i])\n"
   ]
  },
  {
   "cell_type": "code",
   "execution_count": null,
   "metadata": {},
   "outputs": [],
   "source": [
    "# For com índices e elementos\n",
    "\n",
    "lista = [1, 2, 3, 4, 5, 6]\n",
    "for i, x in enumerate(lista):\n",
    "    print(\"lista na posição:\", i, \"tem elemento\", x)\n"
   ]
  },
  {
   "cell_type": "markdown",
   "metadata": {},
   "source": [
    "## Métodos\n",
    "\n",
    "TODO #1\n"
   ]
  },
  {
   "cell_type": "markdown",
   "metadata": {},
   "source": [
    "## Compreensão de listas\n",
    "\n",
    "TODO #2\n"
   ]
  }
 ],
 "metadata": {
  "kernelspec": {
   "display_name": "Python 3.10.6 64-bit",
   "language": "python",
   "name": "python3"
  },
  "language_info": {
   "codemirror_mode": {
    "name": "ipython",
    "version": 3
   },
   "file_extension": ".py",
   "mimetype": "text/x-python",
   "name": "python",
   "nbconvert_exporter": "python",
   "pygments_lexer": "ipython3",
   "version": "3.10.8"
  },
  "orig_nbformat": 4,
  "vscode": {
   "interpreter": {
    "hash": "e7370f93d1d0cde622a1f8e1c04877d8463912d04d973331ad4851f04de6915a"
   }
  }
 },
 "nbformat": 4,
 "nbformat_minor": 2
}
