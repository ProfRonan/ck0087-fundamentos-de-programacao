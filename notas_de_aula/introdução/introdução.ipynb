{
 "cells": [
  {
   "cell_type": "markdown",
   "metadata": {},
   "source": [
    "# Introdução\n",
    "\n",
    "## Pra que programar?\n",
    "\n",
    "- Reorganizar centenas de milhares de arquivos no computador.\n",
    "- Preencher e enviar centenas de emails ou formulários de forma automática.\n",
    "- Avisar toda vez que um produto em um site muda de preço.\n",
    "- Fazer o computador enviar notificações quando algo acontece.\n",
    "- Atualizar e modificar planilhas.\n",
    "- Verificar o e-mail e responder de forma automática alguns deles.\n",
    "\n",
    "## O que é programar\n",
    "\n",
    "É escrever uma série de regras, passos ou instruções que o computador deve executar.\n",
    "\n",
    "- \"Faça isso e depois faça aquilo.\"\n",
    "- \"Se uma algo é verdade, então faça isso; senão faça outra coisa.\"\n",
    "- \"Faça uma ação exatamente 213 vezes.\"\n",
    "- \"Faça uma ação enquanto algo é verdade.\"\n"
   ]
  },
  {
   "cell_type": "code",
   "execution_count": null,
   "metadata": {},
   "outputs": [],
   "source": [
    "# Exemplo 1\n",
    "# Programa em python que verifica se uma senha é verdadeira e responde de acordo.\n",
    "\n",
    "arquivo_senha = open('arquivo_com_senhas.txt')\n",
    "senha = arquivo_senha.read()\n",
    "print(\"Escreva sua senha:\")\n",
    "senha_digitada = input()\n",
    "if senha == senha_digitada:\n",
    "    print(\"Autorizado.\")\n",
    "else:\n",
    "    print(\"Acesso negado.\")"
   ]
  },
  {
   "cell_type": "markdown",
   "metadata": {},
   "source": [
    "## Python\n",
    "\n",
    "[Python](https://www.python.org/) é uma linguagem de programação.\n",
    "\n",
    "Uma linguagem de programação é um conjunto de regras sintáticas definido por quem é o _\"dono\"_ da linguagem.\n",
    "\n",
    "Exemplos de violação de regra sintática em português:\n",
    "\n",
    "- \"emchergar\": não é uma palavra válida em português.\n",
    "- \"Nós vai\": a concordância verbal foi violada.\n",
    "\n",
    "É possível ter uma frase sintaticamente correta mas sem sentido semântico:\n",
    "\n",
    "> O vento do duende vem de roxo quando pisca a inconsciência do javali.\n"
   ]
  },
  {
   "cell_type": "markdown",
   "metadata": {},
   "source": [
    "## Interpretador\n",
    "\n",
    "Um programa escrito em Python é um texto que segue as regras sintáticas da linguagem.\n",
    "\n",
    "Um **interpretador** de python é um programa de computador que recebe um programa escrito em python e executa as instruções contidas nesse programa.\n"
   ]
  },
  {
   "cell_type": "markdown",
   "metadata": {},
   "source": [
    "## Erros\n",
    "\n",
    "**Erros sintáticos** são erros que violam as regras sintáticas definidas pela linguagem.\n",
    "\n",
    "**Erros semânticos** são erros quando um programa não faz o que o programador dele _gostaria_ que ele fizesse.\n",
    "\n",
    "Só tem um deles que o computador é capaz de identificar.\n",
    "Dica: um computador não adivinha pensamentos.\n",
    "\n",
    "**Bugs** são erros semânticos em sua grande maioria.\n",
    "\n",
    "> É possível ter um erro semântico aonde o interpretador executa uma instrução erroneamente, mas isso é um problema dos programadores que escreveram o código do interpretador.\n"
   ]
  },
  {
   "cell_type": "markdown",
   "metadata": {},
   "source": [
    "## Créditos\n",
    "\n",
    "Esse texto foi fortemente inspirado no [Automate The Boring Stuff](https://automatetheboringstuff.com/2e/chapter0/) e também está sob a licença [Creative Commons](https://creativecommons.org/licenses/by-nc-sa/3.0/).\n"
   ]
  }
 ],
 "metadata": {
  "kernelspec": {
   "display_name": "Python 3.10.8 ('.venv': venv)",
   "language": "python",
   "name": "python3"
  },
  "language_info": {
   "name": "python",
   "version": "3.10.8"
  },
  "orig_nbformat": 4,
  "vscode": {
   "interpreter": {
    "hash": "d758d59d1a49ed0f809a11ed06ddf51f33572a2bec26c56e87faa49dcb0ed7bc"
   }
  }
 },
 "nbformat": 4,
 "nbformat_minor": 2
}
