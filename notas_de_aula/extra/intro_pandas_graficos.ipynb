{
 "cells": [
  {
   "attachments": {},
   "cell_type": "markdown",
   "metadata": {},
   "source": [
    "# Desenhando com o `pandas`\n",
    "\n",
    "Assume-se um conhecimento inicial da biblioteca `pandas`, veja as [notas de aula](intro_pandas.ipynb).\n"
   ]
  },
  {
   "cell_type": "code",
   "execution_count": null,
   "metadata": {},
   "outputs": [],
   "source": [
    "import pandas as pd\n",
    "\n",
    "# importa os dados removendo a coluna de índice e sort_no\n",
    "movies = pd.read_csv(\"data/movies.csv\").drop(columns=['id', 'sort_no'])\n",
    "movies\n"
   ]
  },
  {
   "attachments": {},
   "cell_type": "markdown",
   "metadata": {},
   "source": [
    "## Limpando os dados\n"
   ]
  },
  {
   "cell_type": "code",
   "execution_count": null,
   "metadata": {},
   "outputs": [],
   "source": [
    "movies.info()\n"
   ]
  },
  {
   "attachments": {},
   "cell_type": "markdown",
   "metadata": {},
   "source": [
    "Primeiramente vamos melhorar essas colunas...\n",
    "Temos datas que estão com formato `object` (que é uma string).\n",
    "Temos categorias assim também.\n",
    "Temos algo que parece ser um número, mas que não está assim `user_score`.\n"
   ]
  },
  {
   "cell_type": "code",
   "execution_count": null,
   "metadata": {},
   "outputs": [],
   "source": [
    "# Considerando categorias\n",
    "\n",
    "movies['rating'].unique()\n"
   ]
  },
  {
   "attachments": {},
   "cell_type": "markdown",
   "metadata": {},
   "source": [
    "Aqui parece um bom lugar para transformar todos os _PG-13_, _PG--13_ e _PG13\\`_ em uma coisa só.\n"
   ]
  },
  {
   "cell_type": "code",
   "execution_count": null,
   "metadata": {},
   "outputs": [],
   "source": [
    "# Muda todos os ratings parecidos em algo padronizado\n",
    "movies['rating'] = movies['rating'].map(\n",
    "    lambda x: \"PG-13\" if x in ['PG--13', 'PG-13`'] else x)\n",
    "movies['rating'].unique()\n"
   ]
  },
  {
   "cell_type": "code",
   "execution_count": null,
   "metadata": {},
   "outputs": [],
   "source": [
    "# Muda a coluna rating para uma categoria, que torna as operações mais rápidas\n",
    "movies['rating'] = movies['rating'].astype('category')\n",
    "movies['rating'].dtype\n"
   ]
  },
  {
   "cell_type": "code",
   "execution_count": null,
   "metadata": {},
   "outputs": [],
   "source": [
    "# Remove todos os filmes que não tem algum valor faltando\n",
    "movies = movies.dropna()\n",
    "movies\n"
   ]
  },
  {
   "cell_type": "code",
   "execution_count": null,
   "metadata": {},
   "outputs": [],
   "source": [
    "# user_score tem notas que são tbd em vez de números\n",
    "movies['user_score'].unique()\n"
   ]
  },
  {
   "cell_type": "code",
   "execution_count": null,
   "metadata": {},
   "outputs": [],
   "source": [
    "list_to_drop = movies['user_score'] == \"tbd\"\n",
    "movies[list_to_drop]\n",
    "movies = movies.drop(movies[list_to_drop].index, axis=0)\n",
    "movies\n"
   ]
  },
  {
   "cell_type": "code",
   "execution_count": null,
   "metadata": {},
   "outputs": [],
   "source": [
    "# Agora sem os valores não numéricos podemos transformar essa coluna em numérica\n",
    "movies['user_score'] = pd.to_numeric(movies['user_score'])\n",
    "movies.info()\n"
   ]
  },
  {
   "attachments": {},
   "cell_type": "markdown",
   "metadata": {},
   "source": [
    "Sumário e título não precisamos mexer...\n",
    "Fica faltando a data.\n"
   ]
  },
  {
   "cell_type": "code",
   "execution_count": null,
   "metadata": {},
   "outputs": [],
   "source": [
    "movies['release_date'] = pd.to_datetime(movies['release_date'])\n",
    "movies['release_date']\n"
   ]
  },
  {
   "cell_type": "code",
   "execution_count": null,
   "metadata": {},
   "outputs": [],
   "source": [
    "movies.info()\n"
   ]
  },
  {
   "cell_type": "code",
   "execution_count": null,
   "metadata": {},
   "outputs": [],
   "source": [
    "# Só falta reiniciar o índice pois como deletamos índices melhor ter os índices sem pulos\n",
    "movies = movies.reset_index(drop=True)\n",
    "movies\n"
   ]
  },
  {
   "attachments": {},
   "cell_type": "markdown",
   "metadata": {},
   "source": [
    "## Desenhos\n",
    "\n",
    "É possível utilizar a biblioteca `matplotlib` para fazer os desenhos, mas o próprio pandas também é capaz de fazer alguns deles usando os métodos `plot`.\n"
   ]
  },
  {
   "cell_type": "code",
   "execution_count": null,
   "metadata": {},
   "outputs": [],
   "source": [
    "# Agrupamos todos os valores por classificação indicadora\n",
    "group_by_rating = movies.groupby('rating')\n",
    "group_by_rating.describe()\n"
   ]
  },
  {
   "cell_type": "code",
   "execution_count": null,
   "metadata": {},
   "outputs": [],
   "source": [
    "import matplotlib.pyplot as plt\n"
   ]
  },
  {
   "cell_type": "code",
   "execution_count": null,
   "metadata": {},
   "outputs": [],
   "source": [
    "# Agora podemos desenhar um gráfico de barras representando a quantidade de filmes baseado na classificação indicadora\n",
    "movies['rating'].value_counts() \\\n",
    "    .head(10) \\\n",
    "    .plot \\\n",
    "    .barh(xlabel=\"Quantidade\", ylabel=\"Classificação\", title=\"Quantidade de Filmes por Classificação\")\n",
    "plt.show()\n"
   ]
  },
  {
   "cell_type": "code",
   "execution_count": null,
   "metadata": {},
   "outputs": [],
   "source": [
    "# Ou podemos também ver o score médio baseado na classificação\n",
    "axes = movies['release_date'].map(lambda x: x.year) \\\n",
    "    .plot \\\n",
    "    .hist(bins=40, title=\"Quantidade de Filmes por Ano\")\n",
    "axes.set_ylabel(\"Quantidade\")\n",
    "axes.set_xlabel(\"Ano\")\n",
    "plt.show()\n"
   ]
  },
  {
   "cell_type": "code",
   "execution_count": null,
   "metadata": {},
   "outputs": [],
   "source": [
    "# Agora relacionamos o user score com o metascore\n",
    "\n",
    "axes = movies.plot.scatter(x=\"user_score\", y=\"metascore\",\n",
    "                           title=\"User Score vs MetaScore\", xlabel=\"User Score\", ylabel=\"MetaScore\")\n",
    "plt.show()\n"
   ]
  },
  {
   "cell_type": "code",
   "execution_count": null,
   "metadata": {},
   "outputs": [],
   "source": [
    "# Podemos comparar o score médio do usuário e dos críticos com a classificação geral do filme\n",
    "\n",
    "grouped = movies.groupby('rating', sort=True)[\n",
    "    ['metascore', 'user_score']].mean()\n",
    "grouped['metascore'] = grouped['metascore'].map(lambda x: x / 10)\n",
    "axes = grouped.plot.barh(\n",
    "    xlabel=\"Nota\", ylabel=\"Classificação\", title=\"Notas por Classificação\")\n",
    "axes.legend(labels=[\"críticos\", \"usuários\"])\n",
    "plt.show()\n"
   ]
  },
  {
   "cell_type": "code",
   "execution_count": null,
   "metadata": {},
   "outputs": [],
   "source": [
    "# Finalmente uma tabela de correlação entre os scores\n",
    "movies[['metascore', 'user_score']].corr()\n"
   ]
  }
 ],
 "metadata": {
  "kernelspec": {
   "display_name": ".venv",
   "language": "python",
   "name": "python3"
  },
  "language_info": {
   "codemirror_mode": {
    "name": "ipython",
    "version": 3
   },
   "file_extension": ".py",
   "mimetype": "text/x-python",
   "name": "python",
   "nbconvert_exporter": "python",
   "pygments_lexer": "ipython3",
   "version": "3.10.6"
  },
  "orig_nbformat": 4,
  "vscode": {
   "interpreter": {
    "hash": "d758d59d1a49ed0f809a11ed06ddf51f33572a2bec26c56e87faa49dcb0ed7bc"
   }
  }
 },
 "nbformat": 4,
 "nbformat_minor": 2
}
