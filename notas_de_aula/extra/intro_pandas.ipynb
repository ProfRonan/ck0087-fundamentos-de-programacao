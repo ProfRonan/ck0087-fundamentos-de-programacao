{
 "cells": [
  {
   "attachments": {},
   "cell_type": "markdown",
   "metadata": {},
   "source": [
    "# pandas\n",
    "\n",
    "Assume-se um conhecimento sobre o funcionamento do _\"IPython Notebook\"_ para essa introdução, veja essas [notas de aula](intro_notebook.ipynb) para se familiarizar melhor.\n",
    "\n",
    "`pandas` é uma biblioteca escrita para facilitar a manipulação de dados tabulados.\n",
    "\n",
    "Se todo seu ambiente estiver configurado corretamente a célula abaixo não dará erro.\n"
   ]
  },
  {
   "cell_type": "code",
   "execution_count": null,
   "metadata": {},
   "outputs": [],
   "source": [
    "# Importa o pacote pandas\n",
    "import pandas\n"
   ]
  },
  {
   "attachments": {},
   "cell_type": "markdown",
   "metadata": {},
   "source": [
    "## Importando dados\n",
    "\n",
    "Para importar os dados, você precisa _ter_ os dados.\n",
    "\n",
    "No nosso caso vamos usar o arquivo sobre filmes do [MetaCritic](https://www.metacritic.com/movie) que pode ser encontrado em [Kaggle - Datasets (MetaCritic)](https://www.kaggle.com/datasets/patkle/metacritic-scores-for-games-movies-tv-and-music).\n",
    "\n",
    "Uma cópia do arquivo está [aqui](data/movies.csv).\n"
   ]
  },
  {
   "cell_type": "code",
   "execution_count": null,
   "metadata": {},
   "outputs": [],
   "source": [
    "# Importa o arquivo csv (comma separated values) e remove a coluna 'id' que não serve para a análise\n",
    "# axis=1 é coluna, axis=0 é linha\n",
    "movies = pandas.read_csv(\"data/movies.csv\").drop('id', axis=1)\n",
    "\n",
    "# Mostra as 5 primeiras e últimas linhas do DataFrame (tipo tabular usado pelo pandas)\n",
    "movies\n"
   ]
  },
  {
   "attachments": {},
   "cell_type": "markdown",
   "metadata": {},
   "source": [
    "## DataFrame\n",
    "\n",
    "É o tipo de dados utilizado pela biblioteca `pandas` para manipular os dados tabulares.\n",
    "\n",
    "Tem vários métodos úteis para manipular um `DataFrame`.\n"
   ]
  },
  {
   "cell_type": "code",
   "execution_count": null,
   "metadata": {},
   "outputs": [],
   "source": [
    "# Exibe quantas linhas e colunas tem no DataFrame\n",
    "movies.shape\n"
   ]
  },
  {
   "cell_type": "code",
   "execution_count": null,
   "metadata": {},
   "outputs": [],
   "source": [
    "# Exibe quais colunas existem no DataFrame\n",
    "movies.columns\n"
   ]
  },
  {
   "cell_type": "code",
   "execution_count": null,
   "metadata": {},
   "outputs": [],
   "source": [
    "# Informações extras sobre as colunas do DataFrame\n",
    "movies.info()\n"
   ]
  },
  {
   "cell_type": "code",
   "execution_count": null,
   "metadata": {},
   "outputs": [],
   "source": [
    "# É possível usar apenas uma coluna, que é chamada de `Series` pelo `pandas` e se comporta de forma ligeiramente diferente do `DataFrame`.\n",
    "títulos = movies[\"title\"]\n",
    "títulos.head()  # Mostra somente as primeiras linhas dessa Série\n"
   ]
  },
  {
   "cell_type": "code",
   "execution_count": null,
   "metadata": {},
   "outputs": [],
   "source": [
    "# Usando mais de uma coluna gerando um novo DataFrame com as colunas selecionadas\n",
    "rating_títulos = movies[[\"rating\", \"title\"]]\n",
    "rating_títulos\n"
   ]
  },
  {
   "cell_type": "code",
   "execution_count": null,
   "metadata": {},
   "outputs": [],
   "source": [
    "# Filtrar usando um critério também é possível\n",
    "# Seleciona todos os filmes com nota pelo menos 91\n",
    "filmes_aclamados = movies[movies[\"metascore\"] > 90]\n",
    "filmes_aclamados\n"
   ]
  },
  {
   "cell_type": "code",
   "execution_count": null,
   "metadata": {},
   "outputs": [],
   "source": [
    "# É possível combinar operadores lógicos para fazer um filtro complexo e (&) ou o operador lógico ou (|)\n",
    "filmes_ruins_para_toda_família = movies[(\n",
    "    movies[\"metascore\"] < 10) & (movies[\"rating\"] == \"PG\")]\n",
    "filmes_ruins_para_toda_família\n"
   ]
  },
  {
   "cell_type": "code",
   "execution_count": null,
   "metadata": {},
   "outputs": [],
   "source": [
    "# O método notna de um DataFrame retorna uma série de valores booleanos em que todo elemento sem valor definido é False.\n",
    "filmes_com_data = movies[\"release_date\"].notna()\n",
    "filmes_com_data\n"
   ]
  },
  {
   "cell_type": "code",
   "execution_count": null,
   "metadata": {},
   "outputs": [],
   "source": [
    "# Depois podemos usar essa série para filtrar todos os filmes que tem data de lançamento definidos.\n",
    "filmes_com_data = movies[filmes_com_data]\n",
    "filmes_com_data\n"
   ]
  },
  {
   "cell_type": "code",
   "execution_count": null,
   "metadata": {},
   "outputs": [],
   "source": [
    "# Uma descrição dos dados numéricos pode ser obtida com o método abaixo\n",
    "movies.describe()\n"
   ]
  }
 ],
 "metadata": {
  "kernelspec": {
   "display_name": ".venv",
   "language": "python",
   "name": "python3"
  },
  "language_info": {
   "codemirror_mode": {
    "name": "ipython",
    "version": 3
   },
   "file_extension": ".py",
   "mimetype": "text/x-python",
   "name": "python",
   "nbconvert_exporter": "python",
   "pygments_lexer": "ipython3",
   "version": "3.10.6"
  },
  "orig_nbformat": 4,
  "vscode": {
   "interpreter": {
    "hash": "d758d59d1a49ed0f809a11ed06ddf51f33572a2bec26c56e87faa49dcb0ed7bc"
   }
  }
 },
 "nbformat": 4,
 "nbformat_minor": 2
}
