{
 "cells": [
  {
   "attachments": {},
   "cell_type": "markdown",
   "metadata": {},
   "source": [
    "# IPython Notebook\n",
    "\n",
    "É uma forma de mesclar código com marcação para exibir tanto o código quanto seus resultados.\n",
    "\n",
    "O uso mais comum é para trabalhar com Ciência de Dados de uma forma mais rápida.\n"
   ]
  },
  {
   "cell_type": "code",
   "execution_count": null,
   "metadata": {},
   "outputs": [],
   "source": [
    "2 + 2\n"
   ]
  },
  {
   "attachments": {},
   "cell_type": "markdown",
   "metadata": {},
   "source": [
    "## Células\n",
    "\n",
    "Cada trecho de código ou de marcação é chamado de célula.\n",
    "\n",
    "Quando executado, um trecho de código os resultados são armazenados para as células posteriores\n"
   ]
  },
  {
   "cell_type": "code",
   "execution_count": null,
   "metadata": {},
   "outputs": [],
   "source": [
    "def area_quadrado(lado):\n",
    "    \"\"\"\n",
    "    Exemplo de função que calcula a área de um quadrado\n",
    "    \"\"\"\n",
    "    return lado * lado\n"
   ]
  },
  {
   "attachments": {},
   "cell_type": "markdown",
   "metadata": {},
   "source": [
    "Mesmo depois de utilizar o código acima é possível invocar o resultado dele em outras células...\n"
   ]
  },
  {
   "cell_type": "code",
   "execution_count": null,
   "metadata": {},
   "outputs": [],
   "source": [
    "area_quadrado(4)\n"
   ]
  },
  {
   "attachments": {},
   "cell_type": "markdown",
   "metadata": {},
   "source": [
    "Note que não precisamos fazer um print para que o resultado da última operação de uma célula seja exibido.\n"
   ]
  }
 ],
 "metadata": {
  "kernelspec": {
   "display_name": ".venv",
   "language": "python",
   "name": "python3"
  },
  "language_info": {
   "codemirror_mode": {
    "name": "ipython",
    "version": 3
   },
   "file_extension": ".py",
   "mimetype": "text/x-python",
   "name": "python",
   "nbconvert_exporter": "python",
   "pygments_lexer": "ipython3",
   "version": "3.10.6"
  },
  "orig_nbformat": 4,
  "vscode": {
   "interpreter": {
    "hash": "d758d59d1a49ed0f809a11ed06ddf51f33572a2bec26c56e87faa49dcb0ed7bc"
   }
  }
 },
 "nbformat": 4,
 "nbformat_minor": 2
}
