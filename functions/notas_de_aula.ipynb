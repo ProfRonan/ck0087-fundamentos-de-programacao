{
 "cells": [
  {
   "cell_type": "markdown",
   "metadata": {},
   "source": [
    "# Funções"
   ]
  },
  {
   "cell_type": "code",
   "execution_count": null,
   "metadata": {},
   "outputs": [],
   "source": [
    "def nome_funcao():\n",
    "    \"\"\"Docstring que é um comentário que explica o que a função faz\n",
    "       Nesse caso a função imprime 'Hello' e depois 'oi'\n",
    "    \"\"\"\n",
    "    print(\"Hello\")\n",
    "    print(\"Oi\")\n",
    "\n",
    "# Para chamar (fazer com que ela execute o código) uma função\n",
    "# devemos escrever o identificador com abre e fecha parenteses depois.\n",
    "nome_funcao()\n",
    "\n",
    "# Executa a mesma função de novo.\n",
    "nome_funcao()"
   ]
  },
  {
   "cell_type": "markdown",
   "metadata": {},
   "source": [
    "## Nomenclatura\n",
    "\n",
    "dado o código:\n",
    "\n",
    "```python\n",
    "def identificador(parametro1, parametro2, parametro3):\n",
    "    # Bloco de comandos\n",
    "    pass\n",
    "```\n",
    "\n",
    "`def` é uma palvra reservada de Python para idenficar que o que vem a seguir é uma definição de uma função.\n",
    "As variáveis `parametro1`, `parametro2`, `parametro3` são os parâmetros de uma função.\n",
    "\n",
    "Quando chamamos uma função com `indentificador(1,2,3)` nesse caso os valores `1`, `2` e `3` são os argumentos da função."
   ]
  },
  {
   "cell_type": "code",
   "execution_count": null,
   "metadata": {},
   "outputs": [],
   "source": [
    "def funcao1(par1, par2, par3):\n",
    "    print(par1)\n",
    "    print(par2)\n",
    "    print(par3)\n"
   ]
  },
  {
   "cell_type": "code",
   "execution_count": null,
   "metadata": {},
   "outputs": [],
   "source": [
    "print(\"Incio do Programa\")\n",
    "\n",
    "def a():\n",
    "    print(\"Inicio de A\")\n",
    "    b()\n",
    "    print(\"Fim de A\")\n",
    "\n",
    "def b():\n",
    "    print(\"Início de B\")\n",
    "    c()\n",
    "    print(\"Fim de B\")\n",
    "\n",
    "def c():\n",
    "    print(\"Rodou C\")\n",
    "\n",
    "a()\n",
    "print(\"Fim do Programa.\")"
   ]
  },
  {
   "cell_type": "code",
   "execution_count": null,
   "metadata": {},
   "outputs": [],
   "source": [
    "def soma(a, b, c):\n",
    "    return a + b + c\n",
    "\n",
    "resultado = soma(3,4,5)\n",
    "print(resultado)"
   ]
  },
  {
   "cell_type": "code",
   "execution_count": null,
   "metadata": {},
   "outputs": [],
   "source": [
    "def fatorial(n):\n",
    "    if n < 0:\n",
    "        raise TypeError(\"n não pode ser negativo\")\n",
    "    if n == 0:\n",
    "        return 1\n",
    "    return n * fatorial(n - 1)\n",
    "\n",
    "\n",
    "def fibonacci(i):\n",
    "    if i == 0:\n",
    "        return 1\n",
    "    if i == 1:\n",
    "        return 1\n",
    "    return fibonacci(i-1) + fibonacci(i - 2)\n",
    "\n",
    "print(\"o fatorial de 4:\", fatorial(4))\n",
    "print(\"o 10 numero de fibonacci:\", fibonacci(10))"
   ]
  },
  {
   "cell_type": "code",
   "execution_count": null,
   "metadata": {},
   "outputs": [],
   "source": [
    "def imprime_tudo(stringA, stringB, stringC, sep=\"+\"):\n",
    "    resultado = sep.join([stringA,stringB,stringC])\n",
    "    return resultado\n",
    "\n",
    "print(imprime_tudo(\"A\", \"B\", \"C\", \"++\"))\n",
    "print(imprime_tudo(\"A\", \"B\", \"C\"))\n",
    "print(imprime_tudo(\"A\", \"B\", \"C\", sep=\"-\"))"
   ]
  },
  {
   "cell_type": "code",
   "execution_count": null,
   "metadata": {},
   "outputs": [],
   "source": [
    "def é_tri_retangulo(cateto1, cateto2, hipotenusa):\n",
    "    if cateto1**2 + cateto2**2 == hipotenusa**2:\n",
    "        return True\n",
    "    return False\n",
    "\n",
    "lado1 = 3\n",
    "lado2 = 4\n",
    "lado3 = 5\n",
    "\n",
    "print(é_tri_retangulo(3,4,5)) # c1 = 3, c2 = 4, h = 5\n",
    "print(é_tri_retangulo(5,4,3)) # c1 = 5, c2 = 4, h = 3\n",
    "print(é_tri_retangulo(hipotenusa=5, cateto1=3, cateto2=4)) # c1 = 3, c2 = 4, h = 5"
   ]
  },
  {
   "cell_type": "code",
   "execution_count": null,
   "metadata": {},
   "outputs": [],
   "source": [
    "def funcao1(pos1, pos2, /, pos3, nome1=1, *, nome2=4, nome3=5):\n",
    "    print(pos1, end=\" \")\n",
    "    print(pos2, end=\" \")\n",
    "    print(pos3, end=\" \")\n",
    "    print(nome1, end=\" \")\n",
    "    print(nome2, end=\" \")\n",
    "    print(nome3)\n",
    "\n",
    "funcao1(1,2,3,4,nome2=5,nome3=6)\n",
    "print(\"----------------\")\n",
    "funcao1(1,2,3,4,nome3=6)\n",
    "funcao1(1,2,3,nome3=6, nome1=\"A\")"
   ]
  },
  {
   "cell_type": "code",
   "execution_count": null,
   "metadata": {},
   "outputs": [],
   "source": [
    "# agrupamento\n",
    "\n",
    "def agrupamento_lista(pos1, *argumentos, nome2=\"AAA\"):\n",
    "    print(pos1)\n",
    "    print(argumentos)\n",
    "    print(nome2)\n",
    "\n",
    "def agrupamento_dicionario(**dicionario):\n",
    "    for key, value in dicionario.items():\n",
    "        print(key, \":\", value)\n",
    "\n",
    "agrupamento_lista(\"1\", 3,4,5,6,7,8,9, nome2=\"A\")\n",
    "\n",
    "agrupamento_dicionario(nome1=1, nome2=2, valor=3, teste=4)"
   ]
  },
  {
   "cell_type": "code",
   "execution_count": null,
   "metadata": {},
   "outputs": [],
   "source": [
    "# Exemplo\n",
    "import time\n",
    "\n",
    "def timing(funcao=None, *posicional, **dicionario):\n",
    "    antes = time.process_time()\n",
    "    funcao(*posicional, **dicionario)\n",
    "    depois = time.process_time()\n",
    "    return depois - antes\n",
    "\n",
    "def junta_strings(*lista_de_strings):\n",
    "    junta_tudo = \"\"\n",
    "    for string in lista_de_strings:\n",
    "        junta_tudo += string\n",
    "    return junta_tudo\n",
    "\n",
    "def opera_tudo(num1, num2, operador=\"*\"):\n",
    "    if operador == \"*\":\n",
    "        print(\"Multiplicando\", num1, num2)\n",
    "        return num1 * num2\n",
    "\n",
    "lista = [str(x)*500 for x in range(1,10000)]\n",
    "\n",
    "print(timing(junta_strings, *lista))\n",
    "print(timing(opera_tudo, 1, 5, operador=\"*\"))\n"
   ]
  },
  {
   "cell_type": "code",
   "execution_count": null,
   "metadata": {},
   "outputs": [],
   "source": [
    "# ESCOPO\n",
    "\n",
    "x = 10\n",
    "y = 100\n",
    "z = 1000\n",
    "\n",
    "def funA():\n",
    "    print(\"A Antes\")\n",
    "    x = \"A1\"\n",
    "    y = \"A2\"\n",
    "    z = \"A3\"\n",
    "    def funB():\n",
    "        print(\"B Antes\")\n",
    "        nonlocal x, y, z # Experimente trocar 'nonlocal' por 'global' ou comentar a linha toda\n",
    "        # x = \"B1\" # experimente remover esses comentários.\n",
    "        # y = \"B2\" # experimente remover esses comentários.\n",
    "        # z = \"B3\" # experimente remover esses comentários.\n",
    "        print(\"B Depois\")\n",
    "        print(x, y, z)\n",
    "    funB()\n",
    "    print(\"A Depois\")\n",
    "    print(x, y, z)\n",
    "\n",
    "funA()\n",
    "print(\"Fora de tudo!\")\n",
    "print(x,y,z)"
   ]
  }
 ],
 "metadata": {
  "kernelspec": {
   "display_name": "Python 3.10.6 64-bit",
   "language": "python",
   "name": "python3"
  },
  "language_info": {
   "codemirror_mode": {
    "name": "ipython",
    "version": 3
   },
   "file_extension": ".py",
   "mimetype": "text/x-python",
   "name": "python",
   "nbconvert_exporter": "python",
   "pygments_lexer": "ipython3",
   "version": "3.10.6"
  },
  "orig_nbformat": 4,
  "vscode": {
   "interpreter": {
    "hash": "9beb46deb6a7edb68f2b511e388bdca498d29ee538897278ad79420762212ca5"
   }
  }
 },
 "nbformat": 4,
 "nbformat_minor": 2
}
