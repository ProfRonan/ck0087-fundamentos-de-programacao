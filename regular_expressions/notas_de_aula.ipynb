{
 "cells": [
  {
   "cell_type": "markdown",
   "metadata": {},
   "source": [
    "# Expressões Regulares\n",
    "\n",
    "Uma expressão regular é uma `string` especial que pode ser utilizada para validar outra `string`.\n",
    "\n",
    "São muito usadas para validar a entradas de dados em sistemas ou validar valores em um banco de dados.\n",
    "\n",
    "Por exemplo, como verificar que a string pedida por uma função é realmente um número de telefone no formato `+\"numero do país\" (ddd) (4 primeiros dígitos do numero de telefone)-(restante dos números)`, i.e. `+55 (85) 98765-4321`.\n"
   ]
  },
  {
   "cell_type": "code",
   "execution_count": null,
   "metadata": {},
   "outputs": [],
   "source": [
    "# Validando o telefone sem usar expressão regular.\n",
    "\n",
    "def éDigito(caractere):\n",
    "    digitos = \"0123456789\"\n",
    "    if caractere in digitos:\n",
    "        return True\n",
    "    else:\n",
    "        return False\n",
    "\n",
    "\n",
    "def éTelefone(numero: str):\n",
    "    # +dd (dd) ddddd-dddd\n",
    "\n",
    "    if not len(numero) == 19:\n",
    "        return False\n",
    "    if not numero.startswith(\"+\"):\n",
    "        return False\n",
    "    if not (éDigito(numero[1]) and éDigito(numero[2]) and éDigito(numero[4]) and éDigito(numero[5])):\n",
    "        return False\n",
    "    if not (numero[3] == \" \" and numero[5] == \" \"):\n",
    "        return False\n",
    "\n",
    "# DEUS ME LIVRE CONTINUAR ISSO!\n"
   ]
  },
  {
   "cell_type": "markdown",
   "metadata": {},
   "source": [
    "## Usando o pacote de expressões regulares\n",
    "\n",
    "O módulo `re` [Regular expression operations](https://docs.python.org/3/library/re.html) ajuda a resolver esse tipo de problema por meio de expressões regulares.\n"
   ]
  },
  {
   "cell_type": "code",
   "execution_count": null,
   "metadata": {},
   "outputs": [],
   "source": [
    "# Validando um telefone usando expressões regulares\n",
    "\n",
    "import re\n",
    "\n",
    "\n",
    "def éTelefone(entrada: str):\n",
    "    # O prefixo r evita que a string seja interpretada e os caracteres especiais convertidos pelo interpretador.\n",
    "    padrão = re.compile(r'\\+\\d{2} \\(\\d{2}\\) \\d{5}-\\d{4}')\n",
    "    resposta = padrão.fullmatch(entrada)\n",
    "    if resposta:\n",
    "        return True\n",
    "    return False\n",
    "\n",
    "\n",
    "print(\"Teste:\", éTelefone(\"Teste\"))\n",
    "print(\"123456:\", éTelefone(\"123456\"))\n",
    "print(\"+55 (85) 9876-:\", éTelefone(\"+55 (85) 9876-\"))\n",
    "print(\"+55 (85) 9876-54321:\", éTelefone(\"+55 (85) 98765-4321\"))\n"
   ]
  },
  {
   "cell_type": "code",
   "execution_count": null,
   "metadata": {},
   "outputs": [],
   "source": [
    "# Validando email\n",
    "\n",
    "import re\n",
    "\n",
    "\n",
    "def éEmail(entrada: str):\n",
    "    if re.fullmatch(r\"[A-Za-z0-9_+.]+@[A-Za-z0-9]+\\.[A-Za-z0-9.]+\", entrada):\n",
    "        return True\n",
    "    else:\n",
    "        return False\n",
    "\n",
    "\n",
    "def éEmailv2(entrada: str):\n",
    "    if re.fullmatch(r\"[A-Za-z0-9_+.]+@[A-Za-z0-9]+(\\.[A-Za-z0-9]+)+\", entrada):\n",
    "        return True\n",
    "    else:\n",
    "        return False\n",
    "\n",
    "\n",
    "print(éEmail(\"ronan.soares@ufc.br\"))\n",
    "print(éEmail(\"batman@batcaverna.com\"))\n",
    "print(éEmail(\"robin+aqui@teste...com\"))  # Bug... como resolver!?\n",
    "print(éEmailv2(\"robin+aqui@teste...com\"))  # Resolve com a versão 2.\n"
   ]
  },
  {
   "cell_type": "markdown",
   "metadata": {},
   "source": [
    "## Métodos de busca de um padrão\n",
    "\n",
    "Temos alguns métodos de busca usando expressões regulares.\n"
   ]
  },
  {
   "cell_type": "code",
   "execution_count": null,
   "metadata": {},
   "outputs": [],
   "source": [
    "# Métodos de Busca de padrões\n",
    "import re\n",
    "\n",
    "padrão = re.compile(r'cachorro')\n",
    "\n",
    "print(\"Search:\", padrão.search(\"Tem cachorro em algum lugar dessa frase?\"))\n",
    "print(\"match 1:\", padrão.match(\n",
    "    \"Talvez tenha cachorro, mas match só procura no começo da string.\"))\n",
    "print(\"match 2:\", padrão.match(\"cachorro, viu!?\"))\n",
    "print(\"match 3:\", padrão.match(\n",
    "    \"Talvez tenha cachorro, mais na frente...\", len(\"Talvez tenha \")))\n",
    "print(\"fullmatch:\", padrão.fullmatch(\n",
    "    \"Aqui tem que ter exclusivamente só cachorro escrito.\"))\n"
   ]
  },
  {
   "cell_type": "markdown",
   "metadata": {},
   "source": [
    "## Padrões importantes\n"
   ]
  },
  {
   "cell_type": "markdown",
   "metadata": {},
   "source": [
    "### Agrupamentos com parênteses\n"
   ]
  },
  {
   "cell_type": "markdown",
   "metadata": {},
   "source": [
    "### Pelo menos um `+`\n"
   ]
  },
  {
   "cell_type": "markdown",
   "metadata": {},
   "source": [
    "### Um ou zero `?`\n"
   ]
  },
  {
   "cell_type": "markdown",
   "metadata": {},
   "source": [
    "### Zero ou mais `*`\n"
   ]
  },
  {
   "cell_type": "markdown",
   "metadata": {},
   "source": [
    "### Entre mínimo e máximo `{min, max}`\n"
   ]
  },
  {
   "cell_type": "markdown",
   "metadata": {},
   "source": [
    "### Procura \"avarenta\" ou procura \"preguiçosa\"\n",
    "\n",
    "Avarenta: `{3,5}` vai tentar pegar o máximo.\n",
    "Preguiçosa: `{3,5}` vai tentar pegar o mínimo.\n"
   ]
  }
 ],
 "metadata": {
  "kernelspec": {
   "display_name": "Python 3.10.6 64-bit",
   "language": "python",
   "name": "python3"
  },
  "language_info": {
   "codemirror_mode": {
    "name": "ipython",
    "version": 3
   },
   "file_extension": ".py",
   "mimetype": "text/x-python",
   "name": "python",
   "nbconvert_exporter": "python",
   "pygments_lexer": "ipython3",
   "version": "3.10.6"
  },
  "orig_nbformat": 4,
  "vscode": {
   "interpreter": {
    "hash": "e7370f93d1d0cde622a1f8e1c04877d8463912d04d973331ad4851f04de6915a"
   }
  }
 },
 "nbformat": 4,
 "nbformat_minor": 2
}
