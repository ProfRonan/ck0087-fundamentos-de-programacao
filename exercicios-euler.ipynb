{
 "cells": [
  {
   "cell_type": "markdown",
   "metadata": {},
   "source": [
    "# Projeto Euler\n",
    "\n",
    "Alguns exercícios do projeto Euler usados em sala para expor conceitos e técnicas.\n"
   ]
  },
  {
   "cell_type": "markdown",
   "metadata": {},
   "source": [
    "## Exercício 1 - Múltiplos de 3 ou 5\n",
    "\n",
    "Se listarmos todos os números naturais abaixo de 10 que são múltiplos de 3 ou 5, encontramos 3, 5, 6 e 9.\n",
    "A soma desses múltiplos é 23.\n",
    "\n",
    "Encontre a soma de todos os múltiplos de 3 ou 5 menores do que 1000.\n"
   ]
  },
  {
   "cell_type": "code",
   "execution_count": null,
   "metadata": {},
   "outputs": [],
   "source": [
    "# Múltiplos de 3 ou 5\n",
    "\n",
    "soma = 0\n",
    "\n",
    "for i in range(1000):\n",
    "    if i % 3 == 0 or i % 5 == 0:\n",
    "        soma += i\n",
    "print(soma)\n"
   ]
  },
  {
   "cell_type": "markdown",
   "metadata": {},
   "source": [
    "## Exercício 2 - Números Fibonacci Pares\n",
    "\n",
    "Cada novo termo na sequencia de Fibonacci é gerado adicionando os dois últimos números.\n",
    "Começando por 1 e 2, os primeiros 10 números são:\n",
    "\n",
    "1, 2, 3, 5, 8, 13, 21, 34, 55, 89, ...\n",
    "\n",
    "Considerando apenas os números de Fibonacci os quais sejam menores do que 4 milhões, encontre a soma dos números pares.\n"
   ]
  },
  {
   "cell_type": "code",
   "execution_count": null,
   "metadata": {},
   "outputs": [],
   "source": [
    "# Números de Fibonacci Pares\n",
    "\n",
    "limite = 4*10**6\n",
    "anterior = 1\n",
    "atual = 2\n",
    "soma = 0\n",
    "\n",
    "while atual < limite:\n",
    "    # atual sempre vai guardar o valor de Fibonacci \"atual\".\n",
    "    # anterior sempre vai guardar o número de Fibonacci \"anterior\" ao \"atual\".\n",
    "    if (atual % 2 == 0):\n",
    "        soma += atual\n",
    "    # atual = atual + anterior e ao mesmo tempo anterior = atual\n",
    "    atual, anterior = atual + anterior, atual\n",
    "print(soma)\n"
   ]
  },
  {
   "cell_type": "markdown",
   "metadata": {},
   "source": [
    "## Exercício 3 - Maior Fator Primo\n",
    "\n",
    "Os divisores primos de 13195 são 5, 7, 13 e 29.\n",
    "\n",
    "Qual é o maior divisor primo de 600851475143?\n"
   ]
  },
  {
   "cell_type": "code",
   "execution_count": null,
   "metadata": {},
   "outputs": [],
   "source": [
    "# Maior Fator Primo\n",
    "\n",
    "def é_primo(numero: int):\n",
    "    for i in range(2, numero):\n",
    "        if (numero % i == 0):\n",
    "            return False\n",
    "    return True\n",
    "\n",
    "\n",
    "def proximo(numero):\n",
    "    # Encontra um número primo maior que o parâmetro dado como entrada.\n",
    "    proximo_candidato = primo + 1\n",
    "    while True:\n",
    "        if é_primo(proximo_candidato):\n",
    "            return proximo_candidato\n",
    "        else:\n",
    "            proximo_candidato += 1\n",
    "\n",
    "\n",
    "numero = 600851475143\n",
    "maior = 0\n",
    "primo = 2\n",
    "\n",
    "while numero > 1:\n",
    "    if (numero % primo == 0):\n",
    "        # se primo divide numero, então encontramos um número primo que divide numero.\n",
    "        # continuando a fatoração em números primos, o numero deve virar o valor dele\n",
    "        # divido por primo e o maior primo encontrado atualizado.\n",
    "        maior = primo\n",
    "        numero = numero // primo\n",
    "        continue\n",
    "    # se o numero não é divisível por esse primo, então devemos procurar o próximo número primo.\n",
    "    primo = proximo(primo)\n",
    "\n",
    "print(maior)\n"
   ]
  },
  {
   "cell_type": "markdown",
   "metadata": {},
   "source": [
    "## Exercício 4 - Maior múltiplo palindromo\n",
    "\n",
    "Um número palindrômico é igual lido da esquerda para a direita ou da direita para a esquerda.\n",
    "\n",
    "O maior palindromo que é produto de dois número de 2 digitos é o 9009 = 91 x 99.\n",
    "\n",
    "Encontre o maior palindromo que é um produto de dois números de 3 dígitos.\n"
   ]
  },
  {
   "cell_type": "code",
   "execution_count": null,
   "metadata": {},
   "outputs": [],
   "source": [
    "# Maior múltiplo palíndromo\n",
    "\n",
    "def palíndromo(inteiro):\n",
    "    esqdir = str(inteiro)\n",
    "    diresq = esqdir[::-1]\n",
    "    if esqdir == diresq:\n",
    "        return True\n",
    "    return False\n",
    "\n",
    "\n",
    "maior = 0\n",
    "for i in range(999, 99, -1):\n",
    "    for j in range(999, 99, -1):\n",
    "        if palíndromo(i*j):\n",
    "            maior = max(maior, i*j)\n",
    "\n",
    "print(maior)\n"
   ]
  }
 ],
 "metadata": {
  "kernelspec": {
   "display_name": "Python 3.10.6 64-bit",
   "language": "python",
   "name": "python3"
  },
  "language_info": {
   "codemirror_mode": {
    "name": "ipython",
    "version": 3
   },
   "file_extension": ".py",
   "mimetype": "text/x-python",
   "name": "python",
   "nbconvert_exporter": "python",
   "pygments_lexer": "ipython3",
   "version": "3.10.6"
  },
  "orig_nbformat": 4,
  "vscode": {
   "interpreter": {
    "hash": "9beb46deb6a7edb68f2b511e388bdca498d29ee538897278ad79420762212ca5"
   }
  }
 },
 "nbformat": 4,
 "nbformat_minor": 2
}
